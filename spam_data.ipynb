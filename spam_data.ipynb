{
 "cells": [
  {
   "cell_type": "markdown",
   "id": "9d123f26",
   "metadata": {},
   "source": [
    "# Spam Email NLP"
   ]
  },
  {
   "cell_type": "markdown",
   "id": "4ed50071",
   "metadata": {},
   "source": [
    "## Import Data and Start Initial Investigation"
   ]
  },
  {
   "cell_type": "code",
   "execution_count": 1,
   "id": "87f10d62",
   "metadata": {
    "scrolled": true
   },
   "outputs": [],
   "source": [
    "#!pip install --user -U nltk"
   ]
  },
  {
   "cell_type": "code",
   "execution_count": 2,
   "id": "d5cb6b1e",
   "metadata": {},
   "outputs": [],
   "source": [
    "from textblob import TextBlob, Word\n",
    "from wordcloud import WordCloud"
   ]
  },
  {
   "cell_type": "code",
   "execution_count": 3,
   "id": "6e4ec12e",
   "metadata": {},
   "outputs": [],
   "source": [
    "import numpy as np \n",
    "import pandas as pd \n",
    "from matplotlib import pyplot as plt\n",
    "import numpy as np\n",
    "%matplotlib inline\n",
    "plt.style.use('fivethirtyeight')\n",
    "from sklearn.preprocessing import LabelEncoder\n",
    "import re \n",
    "import string\n",
    "import nltk\n",
    "from sklearn.feature_extraction.text import TfidfVectorizer\n",
    "from sklearn.ensemble import RandomForestClassifier\n",
    "from sklearn.model_selection import KFold, cross_val_score\n",
    "from sklearn.model_selection import train_test_split"
   ]
  },
  {
   "cell_type": "code",
   "execution_count": 4,
   "id": "7f1e5f3e",
   "metadata": {},
   "outputs": [
    {
     "data": {
      "text/html": [
       "<div>\n",
       "<style scoped>\n",
       "    .dataframe tbody tr th:only-of-type {\n",
       "        vertical-align: middle;\n",
       "    }\n",
       "\n",
       "    .dataframe tbody tr th {\n",
       "        vertical-align: top;\n",
       "    }\n",
       "\n",
       "    .dataframe thead th {\n",
       "        text-align: right;\n",
       "    }\n",
       "</style>\n",
       "<table border=\"1\" class=\"dataframe\">\n",
       "  <thead>\n",
       "    <tr style=\"text-align: right;\">\n",
       "      <th></th>\n",
       "      <th>Category</th>\n",
       "      <th>Message</th>\n",
       "    </tr>\n",
       "  </thead>\n",
       "  <tbody>\n",
       "    <tr>\n",
       "      <th>0</th>\n",
       "      <td>ham</td>\n",
       "      <td>Go until jurong point, crazy.. Available only ...</td>\n",
       "    </tr>\n",
       "    <tr>\n",
       "      <th>1</th>\n",
       "      <td>ham</td>\n",
       "      <td>Ok lar... Joking wif u oni...</td>\n",
       "    </tr>\n",
       "    <tr>\n",
       "      <th>2</th>\n",
       "      <td>spam</td>\n",
       "      <td>Free entry in 2 a wkly comp to win FA Cup fina...</td>\n",
       "    </tr>\n",
       "    <tr>\n",
       "      <th>3</th>\n",
       "      <td>ham</td>\n",
       "      <td>U dun say so early hor... U c already then say...</td>\n",
       "    </tr>\n",
       "    <tr>\n",
       "      <th>4</th>\n",
       "      <td>ham</td>\n",
       "      <td>Nah I don't think he goes to usf, he lives aro...</td>\n",
       "    </tr>\n",
       "    <tr>\n",
       "      <th>...</th>\n",
       "      <td>...</td>\n",
       "      <td>...</td>\n",
       "    </tr>\n",
       "    <tr>\n",
       "      <th>5567</th>\n",
       "      <td>spam</td>\n",
       "      <td>This is the 2nd time we have tried 2 contact u...</td>\n",
       "    </tr>\n",
       "    <tr>\n",
       "      <th>5568</th>\n",
       "      <td>ham</td>\n",
       "      <td>Will Ì_ b going to esplanade fr home?</td>\n",
       "    </tr>\n",
       "    <tr>\n",
       "      <th>5569</th>\n",
       "      <td>ham</td>\n",
       "      <td>Pity, * was in mood for that. So...any other s...</td>\n",
       "    </tr>\n",
       "    <tr>\n",
       "      <th>5570</th>\n",
       "      <td>ham</td>\n",
       "      <td>The guy did some bitching but I acted like i'd...</td>\n",
       "    </tr>\n",
       "    <tr>\n",
       "      <th>5571</th>\n",
       "      <td>ham</td>\n",
       "      <td>Rofl. Its true to its name</td>\n",
       "    </tr>\n",
       "  </tbody>\n",
       "</table>\n",
       "<p>5572 rows × 2 columns</p>\n",
       "</div>"
      ],
      "text/plain": [
       "     Category                                            Message\n",
       "0         ham  Go until jurong point, crazy.. Available only ...\n",
       "1         ham                      Ok lar... Joking wif u oni...\n",
       "2        spam  Free entry in 2 a wkly comp to win FA Cup fina...\n",
       "3         ham  U dun say so early hor... U c already then say...\n",
       "4         ham  Nah I don't think he goes to usf, he lives aro...\n",
       "...       ...                                                ...\n",
       "5567     spam  This is the 2nd time we have tried 2 contact u...\n",
       "5568      ham              Will Ì_ b going to esplanade fr home?\n",
       "5569      ham  Pity, * was in mood for that. So...any other s...\n",
       "5570      ham  The guy did some bitching but I acted like i'd...\n",
       "5571      ham                         Rofl. Its true to its name\n",
       "\n",
       "[5572 rows x 2 columns]"
      ]
     },
     "execution_count": 4,
     "metadata": {},
     "output_type": "execute_result"
    }
   ],
   "source": [
    "df = pd.read_csv('data/spam.csv', encoding='latin-1')\n",
    "df"
   ]
  },
  {
   "cell_type": "code",
   "execution_count": 5,
   "id": "249c2fd2",
   "metadata": {},
   "outputs": [
    {
     "data": {
      "text/html": [
       "<div>\n",
       "<style scoped>\n",
       "    .dataframe tbody tr th:only-of-type {\n",
       "        vertical-align: middle;\n",
       "    }\n",
       "\n",
       "    .dataframe tbody tr th {\n",
       "        vertical-align: top;\n",
       "    }\n",
       "\n",
       "    .dataframe thead th {\n",
       "        text-align: right;\n",
       "    }\n",
       "</style>\n",
       "<table border=\"1\" class=\"dataframe\">\n",
       "  <thead>\n",
       "    <tr style=\"text-align: right;\">\n",
       "      <th></th>\n",
       "      <th>Category</th>\n",
       "      <th>Message</th>\n",
       "      <th>target</th>\n",
       "    </tr>\n",
       "  </thead>\n",
       "  <tbody>\n",
       "    <tr>\n",
       "      <th>0</th>\n",
       "      <td>ham</td>\n",
       "      <td>Go until jurong point, crazy.. Available only ...</td>\n",
       "      <td>0</td>\n",
       "    </tr>\n",
       "    <tr>\n",
       "      <th>1</th>\n",
       "      <td>ham</td>\n",
       "      <td>Ok lar... Joking wif u oni...</td>\n",
       "      <td>0</td>\n",
       "    </tr>\n",
       "    <tr>\n",
       "      <th>2</th>\n",
       "      <td>spam</td>\n",
       "      <td>Free entry in 2 a wkly comp to win FA Cup fina...</td>\n",
       "      <td>1</td>\n",
       "    </tr>\n",
       "    <tr>\n",
       "      <th>3</th>\n",
       "      <td>ham</td>\n",
       "      <td>U dun say so early hor... U c already then say...</td>\n",
       "      <td>0</td>\n",
       "    </tr>\n",
       "    <tr>\n",
       "      <th>4</th>\n",
       "      <td>ham</td>\n",
       "      <td>Nah I don't think he goes to usf, he lives aro...</td>\n",
       "      <td>0</td>\n",
       "    </tr>\n",
       "  </tbody>\n",
       "</table>\n",
       "</div>"
      ],
      "text/plain": [
       "  Category                                            Message  target\n",
       "0      ham  Go until jurong point, crazy.. Available only ...       0\n",
       "1      ham                      Ok lar... Joking wif u oni...       0\n",
       "2     spam  Free entry in 2 a wkly comp to win FA Cup fina...       1\n",
       "3      ham  U dun say so early hor... U c already then say...       0\n",
       "4      ham  Nah I don't think he goes to usf, he lives aro...       0"
      ]
     },
     "execution_count": 5,
     "metadata": {},
     "output_type": "execute_result"
    }
   ],
   "source": [
    "# convert string labels to 1 or 0 \n",
    "le = LabelEncoder()\n",
    "df['target'] = le.fit_transform(df['Category'])\n",
    "df.head()"
   ]
  },
  {
   "cell_type": "code",
   "execution_count": 6,
   "id": "70761039",
   "metadata": {},
   "outputs": [
    {
     "data": {
      "image/png": "[encoded data removed]",
      "text/plain": [
       "<Figure size 432x288 with 1 Axes>"
      ]
     },
     "metadata": {},
     "output_type": "display_data"
    }
   ],
   "source": [
    "category = df['Category'].value_counts()\n",
    "plt.pie(category.values, labels = category.index, autopct = '%.2f%%')\n",
    "plt.show()"
   ]
  },
  {
   "cell_type": "markdown",
   "id": "5ecd6ce8",
   "metadata": {},
   "source": [
    "An inital look at the data, the emails are 86.59% ham and 13.41% spam "
   ]
  },
  {
   "cell_type": "markdown",
   "id": "72260ce5",
   "metadata": {},
   "source": [
    "## Cleaning"
   ]
  },
  {
   "cell_type": "code",
   "execution_count": 7,
   "id": "754df57c",
   "metadata": {},
   "outputs": [],
   "source": [
    "# stopwords = nltk.corpus.stopwords.words('english')\n",
    "# ps = nltk.PorterStemmer()\n",
    "# wn = nltk.WordNetLemmatizer()\n",
    "# string.punctuation"
   ]
  },
  {
   "cell_type": "code",
   "execution_count": 8,
   "id": "c2323383",
   "metadata": {},
   "outputs": [],
   "source": [
    "# #lowercase\n",
    "# df['clean_message'] = df['Message'].apply(lambda x: \" \".join(x.lower() for x in x.split()))\n",
    "# #remove whitespace\n",
    "# df['clean_message'] = df['clean_message'].str.replace('[^\\w\\s]','')\n",
    "# df['clean_message'].head()"
   ]
  },
  {
   "cell_type": "code",
   "execution_count": 9,
   "id": "7f226581",
   "metadata": {},
   "outputs": [],
   "source": [
    "# #Looking into stopwords\n",
    "# from nltk.corpus import stopwords\n",
    "# stop = stopwords.words('english')\n",
    "# #how many stop words?\n",
    "# df['stopwords'] = df['Message'].apply(lambda x: len([x for x in x.split() if x in stop]))\n",
    "# df[['Message','stopwords']].head(10)\n",
    "# df"
   ]
  },
  {
   "cell_type": "code",
   "execution_count": 10,
   "id": "b4f8bfb6",
   "metadata": {},
   "outputs": [],
   "source": [
    "# #Create a column with the count of stopwords\n",
    "# df['stopwords'] = df['Message'].apply(lambda x: len([x for x in x.split() if x in stop]))\n",
    "# df[['Message','stopwords']].head(10)"
   ]
  },
  {
   "cell_type": "code",
   "execution_count": 11,
   "id": "7381dc1a",
   "metadata": {},
   "outputs": [],
   "source": [
    "# #Remove the stopwords\n",
    "# df['clean_message'] = df['clean_message'].apply(lambda x: \" \".join(x for x in x.split() \n",
    "#                                                              if x not in stop))\n",
    "# df['clean_message'].head()"
   ]
  },
  {
   "cell_type": "code",
   "execution_count": 12,
   "id": "c69ed99e",
   "metadata": {},
   "outputs": [],
   "source": [
    "# df.head() #display dataframe with the added columns"
   ]
  },
  {
   "cell_type": "code",
   "execution_count": 13,
   "id": "f449dfaa",
   "metadata": {},
   "outputs": [],
   "source": [
    "# #function to get the punctuation count \n",
    "# def count_punct(text):\n",
    "#     count = sum([1 for char in text if char in string.punctuation])\n",
    "#     return (text.count(\" \"))\n",
    "\n",
    "# df['punct_count'] = df['Message'].apply(lambda x: count_punct(x))\n",
    "# df.head()"
   ]
  },
  {
   "cell_type": "markdown",
   "id": "f3b6c050",
   "metadata": {},
   "source": [
    "## Tokenizing"
   ]
  },
  {
   "cell_type": "code",
   "execution_count": 14,
   "id": "10236661",
   "metadata": {},
   "outputs": [],
   "source": [
    "# import nltk"
   ]
  },
  {
   "cell_type": "code",
   "execution_count": 15,
   "id": "667285ca",
   "metadata": {},
   "outputs": [],
   "source": [
    "# message_str = ' '.join(df['clean_message'].tolist())\n",
    "# print(message_str)"
   ]
  },
  {
   "cell_type": "code",
   "execution_count": 16,
   "id": "8ed61bd1",
   "metadata": {},
   "outputs": [],
   "source": [
    "# tokens = nltk.word_tokenize(message_str) #tokenizing \n",
    "# print(len(tokens))"
   ]
  },
  {
   "cell_type": "markdown",
   "id": "c747a1eb",
   "metadata": {},
   "source": [
    "Tokenizing creates individual tokens for each word in the data set. There are 52,802 individual tokens in the df."
   ]
  },
  {
   "cell_type": "markdown",
   "id": "f05272f2",
   "metadata": {},
   "source": [
    "## Stemming"
   ]
  },
  {
   "cell_type": "code",
   "execution_count": 17,
   "id": "bb748bdf",
   "metadata": {},
   "outputs": [],
   "source": [
    "# from nltk.stem.snowball import SnowballStemmer\n",
    "# stemmer = SnowballStemmer(\"english\")\n",
    "# df['clean_message'] = df['Message'].str.split()\n",
    "# df['clean_message'].apply(lambda x: [stemmer.stem(y) for y in x]) # Stem every word"
   ]
  },
  {
   "cell_type": "code",
   "execution_count": 18,
   "id": "67df3bb4",
   "metadata": {
    "scrolled": true
   },
   "outputs": [],
   "source": [
    "# #Stem each word and create a new column for the stemmed data\n",
    "# df['stem_message'] = df['clean_message'].apply(lambda x: [stemmer.stem(y) for y in x]) \n",
    "# df.head()"
   ]
  },
  {
   "cell_type": "markdown",
   "id": "3dbe61eb",
   "metadata": {},
   "source": [
    "Stemming the data removes affixes from a word and ending up with the stem. So 'buying' becomes just the stem word 'buy'"
   ]
  },
  {
   "cell_type": "markdown",
   "id": "432407f0",
   "metadata": {},
   "source": [
    "## Cleaning Function:"
   ]
  },
  {
   "cell_type": "code",
   "execution_count": 19,
   "id": "2c032e64",
   "metadata": {},
   "outputs": [
    {
     "data": {
      "text/plain": [
       "'!\"#$%&\\'()*+,-./:;<=>?@[\\\\]^_`{|}~'"
      ]
     },
     "execution_count": 19,
     "metadata": {},
     "output_type": "execute_result"
    }
   ],
   "source": [
    "stopwords = nltk.corpus.stopwords.words('english')\n",
    "ps = nltk.PorterStemmer()\n",
    "string.punctuation"
   ]
  },
  {
   "cell_type": "code",
   "execution_count": 20,
   "id": "309ede20",
   "metadata": {},
   "outputs": [
    {
     "data": {
      "text/plain": [
       "['i',\n",
       " 'me',\n",
       " 'my',\n",
       " 'myself',\n",
       " 'we',\n",
       " 'our',\n",
       " 'ours',\n",
       " 'ourselves',\n",
       " 'you',\n",
       " \"you're\",\n",
       " \"you've\",\n",
       " \"you'll\",\n",
       " \"you'd\",\n",
       " 'your',\n",
       " 'yours',\n",
       " 'yourself',\n",
       " 'yourselves',\n",
       " 'he',\n",
       " 'him',\n",
       " 'his',\n",
       " 'himself',\n",
       " 'she',\n",
       " \"she's\",\n",
       " 'her',\n",
       " 'hers',\n",
       " 'herself',\n",
       " 'it',\n",
       " \"it's\",\n",
       " 'its',\n",
       " 'itself',\n",
       " 'they',\n",
       " 'them',\n",
       " 'their',\n",
       " 'theirs',\n",
       " 'themselves',\n",
       " 'what',\n",
       " 'which',\n",
       " 'who',\n",
       " 'whom',\n",
       " 'this',\n",
       " 'that',\n",
       " \"that'll\",\n",
       " 'these',\n",
       " 'those',\n",
       " 'am',\n",
       " 'is',\n",
       " 'are',\n",
       " 'was',\n",
       " 'were',\n",
       " 'be',\n",
       " 'been',\n",
       " 'being',\n",
       " 'have',\n",
       " 'has',\n",
       " 'had',\n",
       " 'having',\n",
       " 'do',\n",
       " 'does',\n",
       " 'did',\n",
       " 'doing',\n",
       " 'a',\n",
       " 'an',\n",
       " 'the',\n",
       " 'and',\n",
       " 'but',\n",
       " 'if',\n",
       " 'or',\n",
       " 'because',\n",
       " 'as',\n",
       " 'until',\n",
       " 'while',\n",
       " 'of',\n",
       " 'at',\n",
       " 'by',\n",
       " 'for',\n",
       " 'with',\n",
       " 'about',\n",
       " 'against',\n",
       " 'between',\n",
       " 'into',\n",
       " 'through',\n",
       " 'during',\n",
       " 'before',\n",
       " 'after',\n",
       " 'above',\n",
       " 'below',\n",
       " 'to',\n",
       " 'from',\n",
       " 'up',\n",
       " 'down',\n",
       " 'in',\n",
       " 'out',\n",
       " 'on',\n",
       " 'off',\n",
       " 'over',\n",
       " 'under',\n",
       " 'again',\n",
       " 'further',\n",
       " 'then',\n",
       " 'once',\n",
       " 'here',\n",
       " 'there',\n",
       " 'when',\n",
       " 'where',\n",
       " 'why',\n",
       " 'how',\n",
       " 'all',\n",
       " 'any',\n",
       " 'both',\n",
       " 'each',\n",
       " 'few',\n",
       " 'more',\n",
       " 'most',\n",
       " 'other',\n",
       " 'some',\n",
       " 'such',\n",
       " 'no',\n",
       " 'nor',\n",
       " 'not',\n",
       " 'only',\n",
       " 'own',\n",
       " 'same',\n",
       " 'so',\n",
       " 'than',\n",
       " 'too',\n",
       " 'very',\n",
       " 's',\n",
       " 't',\n",
       " 'can',\n",
       " 'will',\n",
       " 'just',\n",
       " 'don',\n",
       " \"don't\",\n",
       " 'should',\n",
       " \"should've\",\n",
       " 'now',\n",
       " 'd',\n",
       " 'll',\n",
       " 'm',\n",
       " 'o',\n",
       " 're',\n",
       " 've',\n",
       " 'y',\n",
       " 'ain',\n",
       " 'aren',\n",
       " \"aren't\",\n",
       " 'couldn',\n",
       " \"couldn't\",\n",
       " 'didn',\n",
       " \"didn't\",\n",
       " 'doesn',\n",
       " \"doesn't\",\n",
       " 'hadn',\n",
       " \"hadn't\",\n",
       " 'hasn',\n",
       " \"hasn't\",\n",
       " 'haven',\n",
       " \"haven't\",\n",
       " 'isn',\n",
       " \"isn't\",\n",
       " 'ma',\n",
       " 'mightn',\n",
       " \"mightn't\",\n",
       " 'mustn',\n",
       " \"mustn't\",\n",
       " 'needn',\n",
       " \"needn't\",\n",
       " 'shan',\n",
       " \"shan't\",\n",
       " 'shouldn',\n",
       " \"shouldn't\",\n",
       " 'wasn',\n",
       " \"wasn't\",\n",
       " 'weren',\n",
       " \"weren't\",\n",
       " 'won',\n",
       " \"won't\",\n",
       " 'wouldn',\n",
       " \"wouldn't\"]"
      ]
     },
     "execution_count": 20,
     "metadata": {},
     "output_type": "execute_result"
    }
   ],
   "source": [
    "stopwords"
   ]
  },
  {
   "cell_type": "code",
   "execution_count": 21,
   "id": "9ff8dd4b",
   "metadata": {},
   "outputs": [],
   "source": [
    "def clean_message(message):\n",
    "    message = \"\".join([word for word in message if word not in string.punctuation]) #takes away punctuation\n",
    "    tokens = re.split('\\W+', message) #tokens\n",
    "    message = [ps.stem(word) for word in tokens if word not in stopwords] #stemming words\n",
    "    return message\n",
    "\n",
    "df['message_clean'] = df['Message'].apply(lambda x: clean_message(x.lower()))"
   ]
  },
  {
   "cell_type": "code",
   "execution_count": 22,
   "id": "a3a10390",
   "metadata": {},
   "outputs": [
    {
     "data": {
      "text/html": [
       "<div>\n",
       "<style scoped>\n",
       "    .dataframe tbody tr th:only-of-type {\n",
       "        vertical-align: middle;\n",
       "    }\n",
       "\n",
       "    .dataframe tbody tr th {\n",
       "        vertical-align: top;\n",
       "    }\n",
       "\n",
       "    .dataframe thead th {\n",
       "        text-align: right;\n",
       "    }\n",
       "</style>\n",
       "<table border=\"1\" class=\"dataframe\">\n",
       "  <thead>\n",
       "    <tr style=\"text-align: right;\">\n",
       "      <th></th>\n",
       "      <th>Category</th>\n",
       "      <th>Message</th>\n",
       "      <th>target</th>\n",
       "      <th>message_clean</th>\n",
       "    </tr>\n",
       "  </thead>\n",
       "  <tbody>\n",
       "    <tr>\n",
       "      <th>0</th>\n",
       "      <td>ham</td>\n",
       "      <td>Go until jurong point, crazy.. Available only ...</td>\n",
       "      <td>0</td>\n",
       "      <td>[go, jurong, point, crazi, avail, bugi, n, gre...</td>\n",
       "    </tr>\n",
       "    <tr>\n",
       "      <th>1</th>\n",
       "      <td>ham</td>\n",
       "      <td>Ok lar... Joking wif u oni...</td>\n",
       "      <td>0</td>\n",
       "      <td>[ok, lar, joke, wif, u, oni]</td>\n",
       "    </tr>\n",
       "    <tr>\n",
       "      <th>2</th>\n",
       "      <td>spam</td>\n",
       "      <td>Free entry in 2 a wkly comp to win FA Cup fina...</td>\n",
       "      <td>1</td>\n",
       "      <td>[free, entri, 2, wkli, comp, win, fa, cup, fin...</td>\n",
       "    </tr>\n",
       "    <tr>\n",
       "      <th>3</th>\n",
       "      <td>ham</td>\n",
       "      <td>U dun say so early hor... U c already then say...</td>\n",
       "      <td>0</td>\n",
       "      <td>[u, dun, say, earli, hor, u, c, alreadi, say]</td>\n",
       "    </tr>\n",
       "    <tr>\n",
       "      <th>4</th>\n",
       "      <td>ham</td>\n",
       "      <td>Nah I don't think he goes to usf, he lives aro...</td>\n",
       "      <td>0</td>\n",
       "      <td>[nah, dont, think, goe, usf, live, around, tho...</td>\n",
       "    </tr>\n",
       "  </tbody>\n",
       "</table>\n",
       "</div>"
      ],
      "text/plain": [
       "  Category                                            Message  target  \\\n",
       "0      ham  Go until jurong point, crazy.. Available only ...       0   \n",
       "1      ham                      Ok lar... Joking wif u oni...       0   \n",
       "2     spam  Free entry in 2 a wkly comp to win FA Cup fina...       1   \n",
       "3      ham  U dun say so early hor... U c already then say...       0   \n",
       "4      ham  Nah I don't think he goes to usf, he lives aro...       0   \n",
       "\n",
       "                                       message_clean  \n",
       "0  [go, jurong, point, crazi, avail, bugi, n, gre...  \n",
       "1                       [ok, lar, joke, wif, u, oni]  \n",
       "2  [free, entri, 2, wkli, comp, win, fa, cup, fin...  \n",
       "3      [u, dun, say, earli, hor, u, c, alreadi, say]  \n",
       "4  [nah, dont, think, goe, usf, live, around, tho...  "
      ]
     },
     "execution_count": 22,
     "metadata": {},
     "output_type": "execute_result"
    }
   ],
   "source": [
    "df.head()"
   ]
  },
  {
   "cell_type": "code",
   "execution_count": 23,
   "id": "13fe5c87",
   "metadata": {},
   "outputs": [
    {
     "data": {
      "text/html": [
       "<div>\n",
       "<style scoped>\n",
       "    .dataframe tbody tr th:only-of-type {\n",
       "        vertical-align: middle;\n",
       "    }\n",
       "\n",
       "    .dataframe tbody tr th {\n",
       "        vertical-align: top;\n",
       "    }\n",
       "\n",
       "    .dataframe thead th {\n",
       "        text-align: right;\n",
       "    }\n",
       "</style>\n",
       "<table border=\"1\" class=\"dataframe\">\n",
       "  <thead>\n",
       "    <tr style=\"text-align: right;\">\n",
       "      <th></th>\n",
       "      <th>Category</th>\n",
       "      <th>Message</th>\n",
       "      <th>target</th>\n",
       "      <th>message_clean</th>\n",
       "      <th>clean</th>\n",
       "    </tr>\n",
       "  </thead>\n",
       "  <tbody>\n",
       "    <tr>\n",
       "      <th>0</th>\n",
       "      <td>ham</td>\n",
       "      <td>Go until jurong point, crazy.. Available only ...</td>\n",
       "      <td>0</td>\n",
       "      <td>[go, jurong, point, crazi, avail, bugi, n, gre...</td>\n",
       "      <td>go,jurong,point,crazi,avail,bugi,n,great,world...</td>\n",
       "    </tr>\n",
       "    <tr>\n",
       "      <th>1</th>\n",
       "      <td>ham</td>\n",
       "      <td>Ok lar... Joking wif u oni...</td>\n",
       "      <td>0</td>\n",
       "      <td>[ok, lar, joke, wif, u, oni]</td>\n",
       "      <td>ok,lar,joke,wif,u,oni</td>\n",
       "    </tr>\n",
       "    <tr>\n",
       "      <th>2</th>\n",
       "      <td>spam</td>\n",
       "      <td>Free entry in 2 a wkly comp to win FA Cup fina...</td>\n",
       "      <td>1</td>\n",
       "      <td>[free, entri, 2, wkli, comp, win, fa, cup, fin...</td>\n",
       "      <td>free,entri,2,wkli,comp,win,fa,cup,final,tkt,21...</td>\n",
       "    </tr>\n",
       "    <tr>\n",
       "      <th>3</th>\n",
       "      <td>ham</td>\n",
       "      <td>U dun say so early hor... U c already then say...</td>\n",
       "      <td>0</td>\n",
       "      <td>[u, dun, say, earli, hor, u, c, alreadi, say]</td>\n",
       "      <td>u,dun,say,earli,hor,u,c,alreadi,say</td>\n",
       "    </tr>\n",
       "    <tr>\n",
       "      <th>4</th>\n",
       "      <td>ham</td>\n",
       "      <td>Nah I don't think he goes to usf, he lives aro...</td>\n",
       "      <td>0</td>\n",
       "      <td>[nah, dont, think, goe, usf, live, around, tho...</td>\n",
       "      <td>nah,dont,think,goe,usf,live,around,though</td>\n",
       "    </tr>\n",
       "  </tbody>\n",
       "</table>\n",
       "</div>"
      ],
      "text/plain": [
       "  Category                                            Message  target  \\\n",
       "0      ham  Go until jurong point, crazy.. Available only ...       0   \n",
       "1      ham                      Ok lar... Joking wif u oni...       0   \n",
       "2     spam  Free entry in 2 a wkly comp to win FA Cup fina...       1   \n",
       "3      ham  U dun say so early hor... U c already then say...       0   \n",
       "4      ham  Nah I don't think he goes to usf, he lives aro...       0   \n",
       "\n",
       "                                       message_clean  \\\n",
       "0  [go, jurong, point, crazi, avail, bugi, n, gre...   \n",
       "1                       [ok, lar, joke, wif, u, oni]   \n",
       "2  [free, entri, 2, wkli, comp, win, fa, cup, fin...   \n",
       "3      [u, dun, say, earli, hor, u, c, alreadi, say]   \n",
       "4  [nah, dont, think, goe, usf, live, around, tho...   \n",
       "\n",
       "                                               clean  \n",
       "0  go,jurong,point,crazi,avail,bugi,n,great,world...  \n",
       "1                              ok,lar,joke,wif,u,oni  \n",
       "2  free,entri,2,wkli,comp,win,fa,cup,final,tkt,21...  \n",
       "3                u,dun,say,earli,hor,u,c,alreadi,say  \n",
       "4          nah,dont,think,goe,usf,live,around,though  "
      ]
     },
     "execution_count": 23,
     "metadata": {},
     "output_type": "execute_result"
    }
   ],
   "source": [
    "df['clean'] = df['message_clean'].apply(lambda x: ','.join(map(str, x)))\n",
    "df.head() #mapped message_clean into a string to be able to run models"
   ]
  },
  {
   "cell_type": "markdown",
   "id": "1e6595bf",
   "metadata": {},
   "source": [
    "## Vectorizing & Modeling"
   ]
  },
  {
   "cell_type": "code",
   "execution_count": 24,
   "id": "d686f7b5",
   "metadata": {},
   "outputs": [],
   "source": [
    "from sklearn.ensemble import RandomForestClassifier\n",
    "from sklearn.naive_bayes import MultinomialNB\n",
    "from sklearn.metrics import accuracy_score, confusion_matrix, f1_score\n",
    "from sklearn.model_selection import train_test_split\n",
    "\n",
    "from sklearn.feature_extraction.text import TfidfVectorizer\n",
    "import string"
   ]
  },
  {
   "cell_type": "code",
   "execution_count": 25,
   "id": "b591a93d",
   "metadata": {},
   "outputs": [],
   "source": [
    "#setting our target & features \n",
    "X = df['clean']\n",
    "y = df['target'] "
   ]
  },
  {
   "cell_type": "code",
   "execution_count": 26,
   "id": "d96b1213",
   "metadata": {},
   "outputs": [],
   "source": [
    "# generate a list of stopwords for TfidfVectorizer to ignore\n",
    "stopwords_list = stopwords"
   ]
  },
  {
   "cell_type": "code",
   "execution_count": 27,
   "id": "804244a5",
   "metadata": {},
   "outputs": [],
   "source": [
    "# generate tf-idf vectorization \n",
    "def tfidf(X, y,  stopwords_list): \n",
    "    X_train, X_test, y_train, y_test = train_test_split(X, y, random_state=42)\n",
    "    vectorizer = TfidfVectorizer(stop_words=stopwords_list)\n",
    "    tf_idf_train = vectorizer.fit_transform(X_train)\n",
    "    tf_idf_test = vectorizer.transform(X_test)\n",
    "    return tf_idf_train, tf_idf_test, y_train, y_test, vectorizer"
   ]
  },
  {
   "cell_type": "code",
   "execution_count": 28,
   "id": "ea08863c",
   "metadata": {},
   "outputs": [],
   "source": [
    "tf_idf_train, tf_idf_test, y_train, y_test, vectorizer = tfidf(X, y, stopwords_list)"
   ]
  },
  {
   "cell_type": "code",
   "execution_count": 29,
   "id": "c09895fb",
   "metadata": {},
   "outputs": [],
   "source": [
    "nb_classifier = MultinomialNB()\n",
    "rf_classifier = RandomForestClassifier(n_estimators=100)"
   ]
  },
  {
   "cell_type": "code",
   "execution_count": 30,
   "id": "cdb665cc",
   "metadata": {},
   "outputs": [],
   "source": [
    "# a function that takes in a classifier and trains it on our tf-idf vectors and generates test and train predictiions\n",
    "def classify_text(classifier, tf_idf_train, tf_idf_test, y_train):\n",
    "    classifier.fit(tf_idf_train, y_train)\n",
    "    train_preds = classifier.predict(tf_idf_train)\n",
    "    test_preds = classifier.predict(tf_idf_test) # put into web app \n",
    "    return train_preds, test_preds"
   ]
  },
  {
   "cell_type": "code",
   "execution_count": 31,
   "id": "e81e4b84",
   "metadata": {},
   "outputs": [
    {
     "name": "stdout",
     "output_type": "stream",
     "text": [
      "[[1207    0]\n",
      " [  46  140]]\n",
      "Accuracy Score 0.9669777458722182\n",
      "F1 Score 0.8588957055214724\n"
     ]
    }
   ],
   "source": [
    "# Naive Bayes Classifier\n",
    "nb_train_preds, nb_test_preds = classify_text(nb_classifier, tf_idf_train, tf_idf_test, y_train)\n",
    "\n",
    "# evaluate performance of Naive Bayes Classifier\n",
    "print(confusion_matrix(y_test, nb_test_preds))\n",
    "print(\"Accuracy Score\", accuracy_score(y_test, nb_test_preds))\n",
    "print(\"F1 Score\", f1_score(y_test, nb_test_preds))"
   ]
  },
  {
   "cell_type": "code",
   "execution_count": 32,
   "id": "e8b39a00",
   "metadata": {},
   "outputs": [
    {
     "name": "stdout",
     "output_type": "stream",
     "text": [
      "Confusion matrix\n",
      "[[1207    0]\n",
      " [  46  140]]\n"
     ]
    },
    {
     "data": {
      "image/png": "[encoded data removed]",
      "text/plain": [
       "<Figure size 432x288 with 2 Axes>"
      ]
     },
     "metadata": {},
     "output_type": "display_data"
    }
   ],
   "source": [
    "import itertools    \n",
    "#Evaluation of Model - Confusion Matrix Plot\n",
    "def plot_confusion_matrix(cm, classes,\n",
    "                          normalize=False,\n",
    "                          title='Confusion matrix',\n",
    "                          cmap=plt.cm.Blues):\n",
    "    \"\"\"\n",
    "    This function prints and plots the confusion matrix.\n",
    "    Normalization can be applied by setting `normalize=True`.\n",
    "    \"\"\"\n",
    "    if normalize:\n",
    "        cm = cm.astype('float') / cm.sum(axis=1)[:, np.newaxis]\n",
    "        print(\"Normalized confusion matrix\")\n",
    "    else:\n",
    "        print('Confusion matrix')\n",
    "\n",
    "    print(cm)\n",
    "\n",
    "    plt.imshow(cm, interpolation='nearest', cmap=cmap)\n",
    "    plt.title(title)\n",
    "    plt.colorbar()\n",
    "    tick_marks = np.arange(len(classes))\n",
    "    plt.xticks(tick_marks, classes, rotation=45)\n",
    "    plt.yticks(tick_marks, classes)\n",
    "\n",
    "    fmt = '.2f' if normalize else 'd'\n",
    "    thresh = cm.max() / 2.\n",
    "    for i, j in itertools.product(range(cm.shape[0]), range(cm.shape[1])):\n",
    "        plt.text(j, i, format(cm[i, j], fmt),\n",
    "                 horizontalalignment=\"center\",\n",
    "                 color=\"white\" if cm[i, j] > thresh else \"black\")\n",
    "\n",
    "    plt.tight_layout()\n",
    "\n",
    "\n",
    "# Compute confusion matrix\n",
    "cnf_matrix = confusion_matrix(y_test, nb_test_preds)\n",
    "np.set_printoptions(precision=2)\n",
    "\n",
    "# Plot non-normalized confusion matrix\n",
    "plt.figure()\n",
    "plot_confusion_matrix(cnf_matrix, classes=['Positive','Negative'],\n",
    "                      title='Naive Bayes Confusion Matrix')"
   ]
  },
  {
   "cell_type": "code",
   "execution_count": 33,
   "id": "39583b61",
   "metadata": {},
   "outputs": [
    {
     "data": {
      "text/plain": [
       "array([0, 0, 0, ..., 0, 0, 0])"
      ]
     },
     "execution_count": 33,
     "metadata": {},
     "output_type": "execute_result"
    }
   ],
   "source": [
    "nb_test_preds"
   ]
  },
  {
   "cell_type": "code",
   "execution_count": 34,
   "id": "519d8af8",
   "metadata": {
    "scrolled": true
   },
   "outputs": [
    {
     "name": "stdout",
     "output_type": "stream",
     "text": [
      "[[1207    0]\n",
      " [  33  153]]\n",
      "Accuracy Score 0.9763101220387652\n",
      "F1 Score 0.9026548672566371\n"
     ]
    }
   ],
   "source": [
    "# generate predictions with Random Forest Classifier\n",
    "rf_train_preds, rf_test_preds = classify_text(rf_classifier, tf_idf_train, tf_idf_test, y_train)\n",
    "\n",
    "# evaluate performance of Random Forest Classifier\n",
    "print(confusion_matrix(y_test, rf_test_preds))\n",
    "print(\"Accuracy Score\", accuracy_score(y_test, rf_test_preds))\n",
    "print(\"F1 Score\", f1_score(y_test, rf_test_preds))"
   ]
  },
  {
   "cell_type": "code",
   "execution_count": 35,
   "id": "44f2f706",
   "metadata": {},
   "outputs": [
    {
     "name": "stdout",
     "output_type": "stream",
     "text": [
      "Confusion matrix\n",
      "[[1207    0]\n",
      " [  33  153]]\n"
     ]
    },
    {
     "data": {
      "image/png": "[encoded data removed]",
      "text/plain": [
       "<Figure size 432x288 with 2 Axes>"
      ]
     },
     "metadata": {},
     "output_type": "display_data"
    }
   ],
   "source": [
    "# Compute confusion matrix\n",
    "cnf_matrix = confusion_matrix(y_test, rf_test_preds)\n",
    "np.set_printoptions(precision=2)\n",
    "\n",
    "# Plot non-normalized confusion matrix\n",
    "plt.figure()\n",
    "plot_confusion_matrix(cnf_matrix, classes=['Positive','Negative'],\n",
    "                      title='Random Forest Confusion Matrix')"
   ]
  },
  {
   "cell_type": "markdown",
   "id": "6726d26c",
   "metadata": {},
   "source": [
    "## Ham Dataframe and Spam Dataframe\n",
    "Split the dataframe into spam and ham to look futher at the patterns in each of the dataframes "
   ]
  },
  {
   "cell_type": "code",
   "execution_count": 36,
   "id": "5c51e396",
   "metadata": {},
   "outputs": [
    {
     "data": {
      "text/html": [
       "<div>\n",
       "<style scoped>\n",
       "    .dataframe tbody tr th:only-of-type {\n",
       "        vertical-align: middle;\n",
       "    }\n",
       "\n",
       "    .dataframe tbody tr th {\n",
       "        vertical-align: top;\n",
       "    }\n",
       "\n",
       "    .dataframe thead th {\n",
       "        text-align: right;\n",
       "    }\n",
       "</style>\n",
       "<table border=\"1\" class=\"dataframe\">\n",
       "  <thead>\n",
       "    <tr style=\"text-align: right;\">\n",
       "      <th></th>\n",
       "      <th>Category</th>\n",
       "      <th>Message</th>\n",
       "      <th>target</th>\n",
       "      <th>message_clean</th>\n",
       "      <th>clean</th>\n",
       "    </tr>\n",
       "  </thead>\n",
       "  <tbody>\n",
       "    <tr>\n",
       "      <th>0</th>\n",
       "      <td>ham</td>\n",
       "      <td>Go until jurong point, crazy.. Available only ...</td>\n",
       "      <td>0</td>\n",
       "      <td>[go, jurong, point, crazi, avail, bugi, n, gre...</td>\n",
       "      <td>go,jurong,point,crazi,avail,bugi,n,great,world...</td>\n",
       "    </tr>\n",
       "    <tr>\n",
       "      <th>1</th>\n",
       "      <td>ham</td>\n",
       "      <td>Ok lar... Joking wif u oni...</td>\n",
       "      <td>0</td>\n",
       "      <td>[ok, lar, joke, wif, u, oni]</td>\n",
       "      <td>ok,lar,joke,wif,u,oni</td>\n",
       "    </tr>\n",
       "    <tr>\n",
       "      <th>3</th>\n",
       "      <td>ham</td>\n",
       "      <td>U dun say so early hor... U c already then say...</td>\n",
       "      <td>0</td>\n",
       "      <td>[u, dun, say, earli, hor, u, c, alreadi, say]</td>\n",
       "      <td>u,dun,say,earli,hor,u,c,alreadi,say</td>\n",
       "    </tr>\n",
       "    <tr>\n",
       "      <th>4</th>\n",
       "      <td>ham</td>\n",
       "      <td>Nah I don't think he goes to usf, he lives aro...</td>\n",
       "      <td>0</td>\n",
       "      <td>[nah, dont, think, goe, usf, live, around, tho...</td>\n",
       "      <td>nah,dont,think,goe,usf,live,around,though</td>\n",
       "    </tr>\n",
       "    <tr>\n",
       "      <th>6</th>\n",
       "      <td>ham</td>\n",
       "      <td>Even my brother is not like to speak with me. ...</td>\n",
       "      <td>0</td>\n",
       "      <td>[even, brother, like, speak, treat, like, aid,...</td>\n",
       "      <td>even,brother,like,speak,treat,like,aid,patent</td>\n",
       "    </tr>\n",
       "  </tbody>\n",
       "</table>\n",
       "</div>"
      ],
      "text/plain": [
       "  Category                                            Message  target  \\\n",
       "0      ham  Go until jurong point, crazy.. Available only ...       0   \n",
       "1      ham                      Ok lar... Joking wif u oni...       0   \n",
       "3      ham  U dun say so early hor... U c already then say...       0   \n",
       "4      ham  Nah I don't think he goes to usf, he lives aro...       0   \n",
       "6      ham  Even my brother is not like to speak with me. ...       0   \n",
       "\n",
       "                                       message_clean  \\\n",
       "0  [go, jurong, point, crazi, avail, bugi, n, gre...   \n",
       "1                       [ok, lar, joke, wif, u, oni]   \n",
       "3      [u, dun, say, earli, hor, u, c, alreadi, say]   \n",
       "4  [nah, dont, think, goe, usf, live, around, tho...   \n",
       "6  [even, brother, like, speak, treat, like, aid,...   \n",
       "\n",
       "                                               clean  \n",
       "0  go,jurong,point,crazi,avail,bugi,n,great,world...  \n",
       "1                              ok,lar,joke,wif,u,oni  \n",
       "3                u,dun,say,earli,hor,u,c,alreadi,say  \n",
       "4          nah,dont,think,goe,usf,live,around,though  \n",
       "6      even,brother,like,speak,treat,like,aid,patent  "
      ]
     },
     "execution_count": 36,
     "metadata": {},
     "output_type": "execute_result"
    }
   ],
   "source": [
    "df_ham = df.loc[df['Category'] == 'ham']\n",
    "df_ham.head()"
   ]
  },
  {
   "cell_type": "code",
   "execution_count": 37,
   "id": "eeeaace5",
   "metadata": {
    "scrolled": false
   },
   "outputs": [
    {
     "data": {
      "text/html": [
       "<div>\n",
       "<style scoped>\n",
       "    .dataframe tbody tr th:only-of-type {\n",
       "        vertical-align: middle;\n",
       "    }\n",
       "\n",
       "    .dataframe tbody tr th {\n",
       "        vertical-align: top;\n",
       "    }\n",
       "\n",
       "    .dataframe thead th {\n",
       "        text-align: right;\n",
       "    }\n",
       "</style>\n",
       "<table border=\"1\" class=\"dataframe\">\n",
       "  <thead>\n",
       "    <tr style=\"text-align: right;\">\n",
       "      <th></th>\n",
       "      <th>Category</th>\n",
       "      <th>Message</th>\n",
       "      <th>target</th>\n",
       "      <th>message_clean</th>\n",
       "      <th>clean</th>\n",
       "    </tr>\n",
       "  </thead>\n",
       "  <tbody>\n",
       "    <tr>\n",
       "      <th>2</th>\n",
       "      <td>spam</td>\n",
       "      <td>Free entry in 2 a wkly comp to win FA Cup fina...</td>\n",
       "      <td>1</td>\n",
       "      <td>[free, entri, 2, wkli, comp, win, fa, cup, fin...</td>\n",
       "      <td>free,entri,2,wkli,comp,win,fa,cup,final,tkt,21...</td>\n",
       "    </tr>\n",
       "    <tr>\n",
       "      <th>5</th>\n",
       "      <td>spam</td>\n",
       "      <td>FreeMsg Hey there darling it's been 3 week's n...</td>\n",
       "      <td>1</td>\n",
       "      <td>[freemsg, hey, darl, 3, week, word, back, id, ...</td>\n",
       "      <td>freemsg,hey,darl,3,week,word,back,id,like,fun,...</td>\n",
       "    </tr>\n",
       "    <tr>\n",
       "      <th>8</th>\n",
       "      <td>spam</td>\n",
       "      <td>WINNER!! As a valued network customer you have...</td>\n",
       "      <td>1</td>\n",
       "      <td>[winner, valu, network, custom, select, receiv...</td>\n",
       "      <td>winner,valu,network,custom,select,receivea,å,9...</td>\n",
       "    </tr>\n",
       "    <tr>\n",
       "      <th>9</th>\n",
       "      <td>spam</td>\n",
       "      <td>Had your mobile 11 months or more? U R entitle...</td>\n",
       "      <td>1</td>\n",
       "      <td>[mobil, 11, month, u, r, entitl, updat, latest...</td>\n",
       "      <td>mobil,11,month,u,r,entitl,updat,latest,colour,...</td>\n",
       "    </tr>\n",
       "    <tr>\n",
       "      <th>11</th>\n",
       "      <td>spam</td>\n",
       "      <td>SIX chances to win CASH! From 100 to 20,000 po...</td>\n",
       "      <td>1</td>\n",
       "      <td>[six, chanc, win, cash, 100, 20000, pound, txt...</td>\n",
       "      <td>six,chanc,win,cash,100,20000,pound,txt,csh11,s...</td>\n",
       "    </tr>\n",
       "  </tbody>\n",
       "</table>\n",
       "</div>"
      ],
      "text/plain": [
       "   Category                                            Message  target  \\\n",
       "2      spam  Free entry in 2 a wkly comp to win FA Cup fina...       1   \n",
       "5      spam  FreeMsg Hey there darling it's been 3 week's n...       1   \n",
       "8      spam  WINNER!! As a valued network customer you have...       1   \n",
       "9      spam  Had your mobile 11 months or more? U R entitle...       1   \n",
       "11     spam  SIX chances to win CASH! From 100 to 20,000 po...       1   \n",
       "\n",
       "                                        message_clean  \\\n",
       "2   [free, entri, 2, wkli, comp, win, fa, cup, fin...   \n",
       "5   [freemsg, hey, darl, 3, week, word, back, id, ...   \n",
       "8   [winner, valu, network, custom, select, receiv...   \n",
       "9   [mobil, 11, month, u, r, entitl, updat, latest...   \n",
       "11  [six, chanc, win, cash, 100, 20000, pound, txt...   \n",
       "\n",
       "                                                clean  \n",
       "2   free,entri,2,wkli,comp,win,fa,cup,final,tkt,21...  \n",
       "5   freemsg,hey,darl,3,week,word,back,id,like,fun,...  \n",
       "8   winner,valu,network,custom,select,receivea,å,9...  \n",
       "9   mobil,11,month,u,r,entitl,updat,latest,colour,...  \n",
       "11  six,chanc,win,cash,100,20000,pound,txt,csh11,s...  "
      ]
     },
     "execution_count": 37,
     "metadata": {},
     "output_type": "execute_result"
    }
   ],
   "source": [
    "df_spam = df.loc[df['Category'] == 'spam']\n",
    "df_spam.head()"
   ]
  },
  {
   "cell_type": "markdown",
   "id": "80856f49",
   "metadata": {},
   "source": [
    "## Ham Data"
   ]
  },
  {
   "cell_type": "code",
   "execution_count": 38,
   "id": "6d06893f",
   "metadata": {},
   "outputs": [
    {
     "name": "stderr",
     "output_type": "stream",
     "text": [
      "<ipython-input-38-fb1e3ab3c669>:5: SettingWithCopyWarning: \n",
      "A value is trying to be set on a copy of a slice from a DataFrame.\n",
      "Try using .loc[row_indexer,col_indexer] = value instead\n",
      "\n",
      "See the caveats in the documentation: https://pandas.pydata.org/pandas-docs/stable/user_guide/indexing.html#returning-a-view-versus-a-copy\n",
      "  df_ham['stopwords'] = df_ham['Message'].apply(lambda x: len([x for x in x.split() if x in stop]))\n"
     ]
    },
    {
     "data": {
      "text/html": [
       "<div>\n",
       "<style scoped>\n",
       "    .dataframe tbody tr th:only-of-type {\n",
       "        vertical-align: middle;\n",
       "    }\n",
       "\n",
       "    .dataframe tbody tr th {\n",
       "        vertical-align: top;\n",
       "    }\n",
       "\n",
       "    .dataframe thead th {\n",
       "        text-align: right;\n",
       "    }\n",
       "</style>\n",
       "<table border=\"1\" class=\"dataframe\">\n",
       "  <thead>\n",
       "    <tr style=\"text-align: right;\">\n",
       "      <th></th>\n",
       "      <th>Category</th>\n",
       "      <th>Message</th>\n",
       "      <th>target</th>\n",
       "      <th>message_clean</th>\n",
       "      <th>clean</th>\n",
       "      <th>stopwords</th>\n",
       "    </tr>\n",
       "  </thead>\n",
       "  <tbody>\n",
       "    <tr>\n",
       "      <th>0</th>\n",
       "      <td>ham</td>\n",
       "      <td>Go until jurong point, crazy.. Available only ...</td>\n",
       "      <td>0</td>\n",
       "      <td>[go, jurong, point, crazi, avail, bugi, n, gre...</td>\n",
       "      <td>go,jurong,point,crazi,avail,bugi,n,great,world...</td>\n",
       "      <td>4</td>\n",
       "    </tr>\n",
       "    <tr>\n",
       "      <th>1</th>\n",
       "      <td>ham</td>\n",
       "      <td>Ok lar... Joking wif u oni...</td>\n",
       "      <td>0</td>\n",
       "      <td>[ok, lar, joke, wif, u, oni]</td>\n",
       "      <td>ok,lar,joke,wif,u,oni</td>\n",
       "      <td>0</td>\n",
       "    </tr>\n",
       "    <tr>\n",
       "      <th>3</th>\n",
       "      <td>ham</td>\n",
       "      <td>U dun say so early hor... U c already then say...</td>\n",
       "      <td>0</td>\n",
       "      <td>[u, dun, say, earli, hor, u, c, alreadi, say]</td>\n",
       "      <td>u,dun,say,earli,hor,u,c,alreadi,say</td>\n",
       "      <td>2</td>\n",
       "    </tr>\n",
       "    <tr>\n",
       "      <th>4</th>\n",
       "      <td>ham</td>\n",
       "      <td>Nah I don't think he goes to usf, he lives aro...</td>\n",
       "      <td>0</td>\n",
       "      <td>[nah, dont, think, goe, usf, live, around, tho...</td>\n",
       "      <td>nah,dont,think,goe,usf,live,around,though</td>\n",
       "      <td>5</td>\n",
       "    </tr>\n",
       "    <tr>\n",
       "      <th>6</th>\n",
       "      <td>ham</td>\n",
       "      <td>Even my brother is not like to speak with me. ...</td>\n",
       "      <td>0</td>\n",
       "      <td>[even, brother, like, speak, treat, like, aid,...</td>\n",
       "      <td>even,brother,like,speak,treat,like,aid,patent</td>\n",
       "      <td>6</td>\n",
       "    </tr>\n",
       "  </tbody>\n",
       "</table>\n",
       "</div>"
      ],
      "text/plain": [
       "  Category                                            Message  target  \\\n",
       "0      ham  Go until jurong point, crazy.. Available only ...       0   \n",
       "1      ham                      Ok lar... Joking wif u oni...       0   \n",
       "3      ham  U dun say so early hor... U c already then say...       0   \n",
       "4      ham  Nah I don't think he goes to usf, he lives aro...       0   \n",
       "6      ham  Even my brother is not like to speak with me. ...       0   \n",
       "\n",
       "                                       message_clean  \\\n",
       "0  [go, jurong, point, crazi, avail, bugi, n, gre...   \n",
       "1                       [ok, lar, joke, wif, u, oni]   \n",
       "3      [u, dun, say, earli, hor, u, c, alreadi, say]   \n",
       "4  [nah, dont, think, goe, usf, live, around, tho...   \n",
       "6  [even, brother, like, speak, treat, like, aid,...   \n",
       "\n",
       "                                               clean  stopwords  \n",
       "0  go,jurong,point,crazi,avail,bugi,n,great,world...          4  \n",
       "1                              ok,lar,joke,wif,u,oni          0  \n",
       "3                u,dun,say,earli,hor,u,c,alreadi,say          2  \n",
       "4          nah,dont,think,goe,usf,live,around,though          5  \n",
       "6      even,brother,like,speak,treat,like,aid,patent          6  "
      ]
     },
     "execution_count": 38,
     "metadata": {},
     "output_type": "execute_result"
    }
   ],
   "source": [
    "#Looking into stopwords\n",
    "from nltk.corpus import stopwords\n",
    "stop = stopwords.words('english')\n",
    "#how many stop words?\n",
    "df_ham['stopwords'] = df_ham['Message'].apply(lambda x: len([x for x in x.split() if x in stop]))\n",
    "df_ham.head()"
   ]
  },
  {
   "cell_type": "code",
   "execution_count": 39,
   "id": "1ea69ea7",
   "metadata": {},
   "outputs": [
    {
     "name": "stderr",
     "output_type": "stream",
     "text": [
      "<ipython-input-39-3d70da5b0335>:6: SettingWithCopyWarning: \n",
      "A value is trying to be set on a copy of a slice from a DataFrame.\n",
      "Try using .loc[row_indexer,col_indexer] = value instead\n",
      "\n",
      "See the caveats in the documentation: https://pandas.pydata.org/pandas-docs/stable/user_guide/indexing.html#returning-a-view-versus-a-copy\n",
      "  df_ham['punct_count'] = df_ham['Message'].apply(lambda x: count_punct(x))\n"
     ]
    },
    {
     "data": {
      "text/html": [
       "<div>\n",
       "<style scoped>\n",
       "    .dataframe tbody tr th:only-of-type {\n",
       "        vertical-align: middle;\n",
       "    }\n",
       "\n",
       "    .dataframe tbody tr th {\n",
       "        vertical-align: top;\n",
       "    }\n",
       "\n",
       "    .dataframe thead th {\n",
       "        text-align: right;\n",
       "    }\n",
       "</style>\n",
       "<table border=\"1\" class=\"dataframe\">\n",
       "  <thead>\n",
       "    <tr style=\"text-align: right;\">\n",
       "      <th></th>\n",
       "      <th>Category</th>\n",
       "      <th>Message</th>\n",
       "      <th>target</th>\n",
       "      <th>message_clean</th>\n",
       "      <th>clean</th>\n",
       "      <th>stopwords</th>\n",
       "      <th>punct_count</th>\n",
       "    </tr>\n",
       "  </thead>\n",
       "  <tbody>\n",
       "    <tr>\n",
       "      <th>0</th>\n",
       "      <td>ham</td>\n",
       "      <td>Go until jurong point, crazy.. Available only ...</td>\n",
       "      <td>0</td>\n",
       "      <td>[go, jurong, point, crazi, avail, bugi, n, gre...</td>\n",
       "      <td>go,jurong,point,crazi,avail,bugi,n,great,world...</td>\n",
       "      <td>4</td>\n",
       "      <td>19</td>\n",
       "    </tr>\n",
       "    <tr>\n",
       "      <th>1</th>\n",
       "      <td>ham</td>\n",
       "      <td>Ok lar... Joking wif u oni...</td>\n",
       "      <td>0</td>\n",
       "      <td>[ok, lar, joke, wif, u, oni]</td>\n",
       "      <td>ok,lar,joke,wif,u,oni</td>\n",
       "      <td>0</td>\n",
       "      <td>5</td>\n",
       "    </tr>\n",
       "    <tr>\n",
       "      <th>3</th>\n",
       "      <td>ham</td>\n",
       "      <td>U dun say so early hor... U c already then say...</td>\n",
       "      <td>0</td>\n",
       "      <td>[u, dun, say, earli, hor, u, c, alreadi, say]</td>\n",
       "      <td>u,dun,say,earli,hor,u,c,alreadi,say</td>\n",
       "      <td>2</td>\n",
       "      <td>10</td>\n",
       "    </tr>\n",
       "    <tr>\n",
       "      <th>4</th>\n",
       "      <td>ham</td>\n",
       "      <td>Nah I don't think he goes to usf, he lives aro...</td>\n",
       "      <td>0</td>\n",
       "      <td>[nah, dont, think, goe, usf, live, around, tho...</td>\n",
       "      <td>nah,dont,think,goe,usf,live,around,though</td>\n",
       "      <td>5</td>\n",
       "      <td>12</td>\n",
       "    </tr>\n",
       "    <tr>\n",
       "      <th>6</th>\n",
       "      <td>ham</td>\n",
       "      <td>Even my brother is not like to speak with me. ...</td>\n",
       "      <td>0</td>\n",
       "      <td>[even, brother, like, speak, treat, like, aid,...</td>\n",
       "      <td>even,brother,like,speak,treat,like,aid,patent</td>\n",
       "      <td>6</td>\n",
       "      <td>15</td>\n",
       "    </tr>\n",
       "  </tbody>\n",
       "</table>\n",
       "</div>"
      ],
      "text/plain": [
       "  Category                                            Message  target  \\\n",
       "0      ham  Go until jurong point, crazy.. Available only ...       0   \n",
       "1      ham                      Ok lar... Joking wif u oni...       0   \n",
       "3      ham  U dun say so early hor... U c already then say...       0   \n",
       "4      ham  Nah I don't think he goes to usf, he lives aro...       0   \n",
       "6      ham  Even my brother is not like to speak with me. ...       0   \n",
       "\n",
       "                                       message_clean  \\\n",
       "0  [go, jurong, point, crazi, avail, bugi, n, gre...   \n",
       "1                       [ok, lar, joke, wif, u, oni]   \n",
       "3      [u, dun, say, earli, hor, u, c, alreadi, say]   \n",
       "4  [nah, dont, think, goe, usf, live, around, tho...   \n",
       "6  [even, brother, like, speak, treat, like, aid,...   \n",
       "\n",
       "                                               clean  stopwords  punct_count  \n",
       "0  go,jurong,point,crazi,avail,bugi,n,great,world...          4           19  \n",
       "1                              ok,lar,joke,wif,u,oni          0            5  \n",
       "3                u,dun,say,earli,hor,u,c,alreadi,say          2           10  \n",
       "4          nah,dont,think,goe,usf,live,around,though          5           12  \n",
       "6      even,brother,like,speak,treat,like,aid,patent          6           15  "
      ]
     },
     "execution_count": 39,
     "metadata": {},
     "output_type": "execute_result"
    }
   ],
   "source": [
    "#function to get the punctuation count \n",
    "def count_punct(text):\n",
    "    count = sum([1 for char in text if char in string.punctuation])\n",
    "    return (text.count(\" \"))\n",
    "\n",
    "df_ham['punct_count'] = df_ham['Message'].apply(lambda x: count_punct(x))\n",
    "df_ham.head()"
   ]
  },
  {
   "cell_type": "code",
   "execution_count": 40,
   "id": "59a3e15b",
   "metadata": {},
   "outputs": [
    {
     "data": {
      "text/plain": [
       "count    4825.000000\n",
       "mean        4.476891\n",
       "std         4.782579\n",
       "min         0.000000\n",
       "25%         1.000000\n",
       "50%         3.000000\n",
       "75%         6.000000\n",
       "max        86.000000\n",
       "Name: stopwords, dtype: float64"
      ]
     },
     "execution_count": 40,
     "metadata": {},
     "output_type": "execute_result"
    }
   ],
   "source": [
    "df_ham['stopwords'].describe()"
   ]
  },
  {
   "cell_type": "code",
   "execution_count": 41,
   "id": "2cb45e6e",
   "metadata": {},
   "outputs": [
    {
     "data": {
      "text/plain": [
       "count    4825.000000\n",
       "mean       13.399378\n",
       "std        11.620158\n",
       "min         0.000000\n",
       "25%         6.000000\n",
       "50%        10.000000\n",
       "75%        18.000000\n",
       "max       170.000000\n",
       "Name: punct_count, dtype: float64"
      ]
     },
     "execution_count": 41,
     "metadata": {},
     "output_type": "execute_result"
    }
   ],
   "source": [
    "df_ham['punct_count'].describe()"
   ]
  },
  {
   "cell_type": "code",
   "execution_count": 42,
   "id": "82c0a3e1",
   "metadata": {},
   "outputs": [
    {
     "data": {
      "image/png": "[encoded data removed]",
      "text/plain": [
       "<Figure size 432x288 with 1 Axes>"
      ]
     },
     "metadata": {},
     "output_type": "display_data"
    }
   ],
   "source": [
    "fig_ham, ax_ham = plt.subplots()\n",
    "ax_ham.boxplot(df_ham['stopwords'])\n",
    "ax_ham.set_title('Ham Stopword Count')\n",
    "plt.show();"
   ]
  },
  {
   "cell_type": "code",
   "execution_count": 43,
   "id": "b2f65b99",
   "metadata": {},
   "outputs": [
    {
     "data": {
      "image/png": "[encoded data removed]",
      "text/plain": [
       "<Figure size 432x288 with 1 Axes>"
      ]
     },
     "metadata": {},
     "output_type": "display_data"
    }
   ],
   "source": [
    "fig_ham1, ax_ham1 = plt.subplots()\n",
    "ax_ham1.boxplot(df_ham['punct_count'])\n",
    "ax_ham1.set_title('Ham Punctuation Count')\n",
    "plt.show();"
   ]
  },
  {
   "cell_type": "markdown",
   "id": "ab456068",
   "metadata": {},
   "source": [
    "For the ham emails:\n",
    "- Mean Punctuation: 13.40\n",
    "- Median Punctuation: 10\n",
    "\n",
    "- Mean Stopwords: 4.48\n",
    "- Median Stopwords: 3.0"
   ]
  },
  {
   "cell_type": "markdown",
   "id": "f269c1fc",
   "metadata": {},
   "source": [
    "## Spam"
   ]
  },
  {
   "cell_type": "code",
   "execution_count": 44,
   "id": "ed5814e9",
   "metadata": {},
   "outputs": [
    {
     "name": "stderr",
     "output_type": "stream",
     "text": [
      "<ipython-input-44-02435f487645>:5: SettingWithCopyWarning: \n",
      "A value is trying to be set on a copy of a slice from a DataFrame.\n",
      "Try using .loc[row_indexer,col_indexer] = value instead\n",
      "\n",
      "See the caveats in the documentation: https://pandas.pydata.org/pandas-docs/stable/user_guide/indexing.html#returning-a-view-versus-a-copy\n",
      "  df_spam['stopwords'] = df_spam['Message'].apply(lambda x: len([x for x in x.split() if x in stop]))\n"
     ]
    },
    {
     "data": {
      "text/html": [
       "<div>\n",
       "<style scoped>\n",
       "    .dataframe tbody tr th:only-of-type {\n",
       "        vertical-align: middle;\n",
       "    }\n",
       "\n",
       "    .dataframe tbody tr th {\n",
       "        vertical-align: top;\n",
       "    }\n",
       "\n",
       "    .dataframe thead th {\n",
       "        text-align: right;\n",
       "    }\n",
       "</style>\n",
       "<table border=\"1\" class=\"dataframe\">\n",
       "  <thead>\n",
       "    <tr style=\"text-align: right;\">\n",
       "      <th></th>\n",
       "      <th>Category</th>\n",
       "      <th>Message</th>\n",
       "      <th>target</th>\n",
       "      <th>message_clean</th>\n",
       "      <th>clean</th>\n",
       "      <th>stopwords</th>\n",
       "    </tr>\n",
       "  </thead>\n",
       "  <tbody>\n",
       "    <tr>\n",
       "      <th>2</th>\n",
       "      <td>spam</td>\n",
       "      <td>Free entry in 2 a wkly comp to win FA Cup fina...</td>\n",
       "      <td>1</td>\n",
       "      <td>[free, entri, 2, wkli, comp, win, fa, cup, fin...</td>\n",
       "      <td>free,entri,2,wkli,comp,win,fa,cup,final,tkt,21...</td>\n",
       "      <td>5</td>\n",
       "    </tr>\n",
       "    <tr>\n",
       "      <th>5</th>\n",
       "      <td>spam</td>\n",
       "      <td>FreeMsg Hey there darling it's been 3 week's n...</td>\n",
       "      <td>1</td>\n",
       "      <td>[freemsg, hey, darl, 3, week, word, back, id, ...</td>\n",
       "      <td>freemsg,hey,darl,3,week,word,back,id,like,fun,...</td>\n",
       "      <td>13</td>\n",
       "    </tr>\n",
       "    <tr>\n",
       "      <th>8</th>\n",
       "      <td>spam</td>\n",
       "      <td>WINNER!! As a valued network customer you have...</td>\n",
       "      <td>1</td>\n",
       "      <td>[winner, valu, network, custom, select, receiv...</td>\n",
       "      <td>winner,valu,network,custom,select,receivea,å,9...</td>\n",
       "      <td>5</td>\n",
       "    </tr>\n",
       "    <tr>\n",
       "      <th>9</th>\n",
       "      <td>spam</td>\n",
       "      <td>Had your mobile 11 months or more? U R entitle...</td>\n",
       "      <td>1</td>\n",
       "      <td>[mobil, 11, month, u, r, entitl, updat, latest...</td>\n",
       "      <td>mobil,11,month,u,r,entitl,updat,latest,colour,...</td>\n",
       "      <td>8</td>\n",
       "    </tr>\n",
       "    <tr>\n",
       "      <th>11</th>\n",
       "      <td>spam</td>\n",
       "      <td>SIX chances to win CASH! From 100 to 20,000 po...</td>\n",
       "      <td>1</td>\n",
       "      <td>[six, chanc, win, cash, 100, 20000, pound, txt...</td>\n",
       "      <td>six,chanc,win,cash,100,20000,pound,txt,csh11,s...</td>\n",
       "      <td>4</td>\n",
       "    </tr>\n",
       "  </tbody>\n",
       "</table>\n",
       "</div>"
      ],
      "text/plain": [
       "   Category                                            Message  target  \\\n",
       "2      spam  Free entry in 2 a wkly comp to win FA Cup fina...       1   \n",
       "5      spam  FreeMsg Hey there darling it's been 3 week's n...       1   \n",
       "8      spam  WINNER!! As a valued network customer you have...       1   \n",
       "9      spam  Had your mobile 11 months or more? U R entitle...       1   \n",
       "11     spam  SIX chances to win CASH! From 100 to 20,000 po...       1   \n",
       "\n",
       "                                        message_clean  \\\n",
       "2   [free, entri, 2, wkli, comp, win, fa, cup, fin...   \n",
       "5   [freemsg, hey, darl, 3, week, word, back, id, ...   \n",
       "8   [winner, valu, network, custom, select, receiv...   \n",
       "9   [mobil, 11, month, u, r, entitl, updat, latest...   \n",
       "11  [six, chanc, win, cash, 100, 20000, pound, txt...   \n",
       "\n",
       "                                                clean  stopwords  \n",
       "2   free,entri,2,wkli,comp,win,fa,cup,final,tkt,21...          5  \n",
       "5   freemsg,hey,darl,3,week,word,back,id,like,fun,...         13  \n",
       "8   winner,valu,network,custom,select,receivea,å,9...          5  \n",
       "9   mobil,11,month,u,r,entitl,updat,latest,colour,...          8  \n",
       "11  six,chanc,win,cash,100,20000,pound,txt,csh11,s...          4  "
      ]
     },
     "execution_count": 44,
     "metadata": {},
     "output_type": "execute_result"
    }
   ],
   "source": [
    "#Looking into stopwords for spam emails\n",
    "from nltk.corpus import stopwords\n",
    "stop = stopwords.words('english')\n",
    "#how many stop words?\n",
    "df_spam['stopwords'] = df_spam['Message'].apply(lambda x: len([x for x in x.split() if x in stop]))\n",
    "df_spam.head()"
   ]
  },
  {
   "cell_type": "code",
   "execution_count": 45,
   "id": "a511300e",
   "metadata": {},
   "outputs": [
    {
     "name": "stderr",
     "output_type": "stream",
     "text": [
      "<ipython-input-45-d716a6edc49f>:1: SettingWithCopyWarning: \n",
      "A value is trying to be set on a copy of a slice from a DataFrame.\n",
      "Try using .loc[row_indexer,col_indexer] = value instead\n",
      "\n",
      "See the caveats in the documentation: https://pandas.pydata.org/pandas-docs/stable/user_guide/indexing.html#returning-a-view-versus-a-copy\n",
      "  df_spam['punct_count'] = df_spam['Message'].apply(lambda x: count_punct(x))\n"
     ]
    },
    {
     "data": {
      "text/html": [
       "<div>\n",
       "<style scoped>\n",
       "    .dataframe tbody tr th:only-of-type {\n",
       "        vertical-align: middle;\n",
       "    }\n",
       "\n",
       "    .dataframe tbody tr th {\n",
       "        vertical-align: top;\n",
       "    }\n",
       "\n",
       "    .dataframe thead th {\n",
       "        text-align: right;\n",
       "    }\n",
       "</style>\n",
       "<table border=\"1\" class=\"dataframe\">\n",
       "  <thead>\n",
       "    <tr style=\"text-align: right;\">\n",
       "      <th></th>\n",
       "      <th>Category</th>\n",
       "      <th>Message</th>\n",
       "      <th>target</th>\n",
       "      <th>message_clean</th>\n",
       "      <th>clean</th>\n",
       "      <th>stopwords</th>\n",
       "      <th>punct_count</th>\n",
       "    </tr>\n",
       "  </thead>\n",
       "  <tbody>\n",
       "    <tr>\n",
       "      <th>2</th>\n",
       "      <td>spam</td>\n",
       "      <td>Free entry in 2 a wkly comp to win FA Cup fina...</td>\n",
       "      <td>1</td>\n",
       "      <td>[free, entri, 2, wkli, comp, win, fa, cup, fin...</td>\n",
       "      <td>free,entri,2,wkli,comp,win,fa,cup,final,tkt,21...</td>\n",
       "      <td>5</td>\n",
       "      <td>27</td>\n",
       "    </tr>\n",
       "    <tr>\n",
       "      <th>5</th>\n",
       "      <td>spam</td>\n",
       "      <td>FreeMsg Hey there darling it's been 3 week's n...</td>\n",
       "      <td>1</td>\n",
       "      <td>[freemsg, hey, darl, 3, week, word, back, id, ...</td>\n",
       "      <td>freemsg,hey,darl,3,week,word,back,id,like,fun,...</td>\n",
       "      <td>13</td>\n",
       "      <td>31</td>\n",
       "    </tr>\n",
       "    <tr>\n",
       "      <th>8</th>\n",
       "      <td>spam</td>\n",
       "      <td>WINNER!! As a valued network customer you have...</td>\n",
       "      <td>1</td>\n",
       "      <td>[winner, valu, network, custom, select, receiv...</td>\n",
       "      <td>winner,valu,network,custom,select,receivea,å,9...</td>\n",
       "      <td>5</td>\n",
       "      <td>25</td>\n",
       "    </tr>\n",
       "    <tr>\n",
       "      <th>9</th>\n",
       "      <td>spam</td>\n",
       "      <td>Had your mobile 11 months or more? U R entitle...</td>\n",
       "      <td>1</td>\n",
       "      <td>[mobil, 11, month, u, r, entitl, updat, latest...</td>\n",
       "      <td>mobil,11,month,u,r,entitl,updat,latest,colour,...</td>\n",
       "      <td>8</td>\n",
       "      <td>28</td>\n",
       "    </tr>\n",
       "    <tr>\n",
       "      <th>11</th>\n",
       "      <td>spam</td>\n",
       "      <td>SIX chances to win CASH! From 100 to 20,000 po...</td>\n",
       "      <td>1</td>\n",
       "      <td>[six, chanc, win, cash, 100, 20000, pound, txt...</td>\n",
       "      <td>six,chanc,win,cash,100,20000,pound,txt,csh11,s...</td>\n",
       "      <td>4</td>\n",
       "      <td>25</td>\n",
       "    </tr>\n",
       "  </tbody>\n",
       "</table>\n",
       "</div>"
      ],
      "text/plain": [
       "   Category                                            Message  target  \\\n",
       "2      spam  Free entry in 2 a wkly comp to win FA Cup fina...       1   \n",
       "5      spam  FreeMsg Hey there darling it's been 3 week's n...       1   \n",
       "8      spam  WINNER!! As a valued network customer you have...       1   \n",
       "9      spam  Had your mobile 11 months or more? U R entitle...       1   \n",
       "11     spam  SIX chances to win CASH! From 100 to 20,000 po...       1   \n",
       "\n",
       "                                        message_clean  \\\n",
       "2   [free, entri, 2, wkli, comp, win, fa, cup, fin...   \n",
       "5   [freemsg, hey, darl, 3, week, word, back, id, ...   \n",
       "8   [winner, valu, network, custom, select, receiv...   \n",
       "9   [mobil, 11, month, u, r, entitl, updat, latest...   \n",
       "11  [six, chanc, win, cash, 100, 20000, pound, txt...   \n",
       "\n",
       "                                                clean  stopwords  punct_count  \n",
       "2   free,entri,2,wkli,comp,win,fa,cup,final,tkt,21...          5           27  \n",
       "5   freemsg,hey,darl,3,week,word,back,id,like,fun,...         13           31  \n",
       "8   winner,valu,network,custom,select,receivea,å,9...          5           25  \n",
       "9   mobil,11,month,u,r,entitl,updat,latest,colour,...          8           28  \n",
       "11  six,chanc,win,cash,100,20000,pound,txt,csh11,s...          4           25  "
      ]
     },
     "execution_count": 45,
     "metadata": {},
     "output_type": "execute_result"
    }
   ],
   "source": [
    "df_spam['punct_count'] = df_spam['Message'].apply(lambda x: count_punct(x))\n",
    "df_spam.head()"
   ]
  },
  {
   "cell_type": "code",
   "execution_count": 46,
   "id": "b2fa28ba",
   "metadata": {},
   "outputs": [
    {
     "data": {
      "text/plain": [
       "count    747.000000\n",
       "mean       5.349398\n",
       "std        2.985624\n",
       "min        0.000000\n",
       "25%        3.000000\n",
       "50%        5.000000\n",
       "75%        7.000000\n",
       "max       17.000000\n",
       "Name: stopwords, dtype: float64"
      ]
     },
     "execution_count": 46,
     "metadata": {},
     "output_type": "execute_result"
    }
   ],
   "source": [
    "df_spam['stopwords'].describe()"
   ]
  },
  {
   "cell_type": "code",
   "execution_count": 47,
   "id": "6abd91ad",
   "metadata": {},
   "outputs": [
    {
     "data": {
      "text/plain": [
       "count    747.000000\n",
       "mean      22.812584\n",
       "std        5.956923\n",
       "min        0.000000\n",
       "25%       21.000000\n",
       "50%       24.000000\n",
       "75%       27.000000\n",
       "max       34.000000\n",
       "Name: punct_count, dtype: float64"
      ]
     },
     "execution_count": 47,
     "metadata": {},
     "output_type": "execute_result"
    }
   ],
   "source": [
    "df_spam['punct_count'].describe()"
   ]
  },
  {
   "cell_type": "markdown",
   "id": "f844cd9b",
   "metadata": {},
   "source": [
    "For the spam emails:\n",
    "- Mean Punctuation: 22.81\n",
    "- Median Punctuation: 24\n",
    "- Mean Stopwords: 5.35\n",
    "- Median Stopwords: 5.0"
   ]
  },
  {
   "cell_type": "code",
   "execution_count": 48,
   "id": "dcc97e33",
   "metadata": {},
   "outputs": [
    {
     "data": {
      "image/png": "[encoded data removed]",
      "text/plain": [
       "<Figure size 432x288 with 1 Axes>"
      ]
     },
     "metadata": {},
     "output_type": "display_data"
    }
   ],
   "source": [
    "fig, ax = plt.subplots()\n",
    "ax.boxplot(df_spam['stopwords'])\n",
    "ax.set_title('Spam Stop Word Count')\n",
    "plt.show();"
   ]
  },
  {
   "cell_type": "code",
   "execution_count": 49,
   "id": "930e11e1",
   "metadata": {},
   "outputs": [
    {
     "data": {
      "image/png": "[encoded data removed]",
      "text/plain": [
       "<Figure size 432x288 with 1 Axes>"
      ]
     },
     "metadata": {},
     "output_type": "display_data"
    }
   ],
   "source": [
    "fig1, ax1 = plt.subplots()\n",
    "ax1.boxplot(df_spam['punct_count'])\n",
    "ax1.set_title('Spam Punctuation Count')\n",
    "plt.show();"
   ]
  },
  {
   "cell_type": "markdown",
   "id": "1d7f30a8",
   "metadata": {},
   "source": [
    "Notes: \n",
    "1. The spam emails have significantly more punctuation\n",
    "2. The difference in stop words is not as much as I thought it would be"
   ]
  },
  {
   "cell_type": "markdown",
   "id": "bb4dbb1c",
   "metadata": {},
   "source": [
    "## Visualize Ham Vs Spam Findings"
   ]
  },
  {
   "cell_type": "code",
   "execution_count": 79,
   "id": "cd87b5cd",
   "metadata": {},
   "outputs": [
    {
     "data": {
      "image/png": "[encoded data removed]",
      "text/plain": [
       "<Figure size 720x432 with 1 Axes>"
      ]
     },
     "metadata": {},
     "output_type": "display_data"
    }
   ],
   "source": [
    "import seaborn as sns\n",
    "plt.figure(figsize=(10,6))\n",
    "ax = sns.countplot(data=df_spam , x = 'punct_count', hue='Category')\n",
    "ax.set(xlabel=\"Number of Punctuations\", ylabel = \"Number of Messages\");"
   ]
  },
  {
   "cell_type": "code",
   "execution_count": 110,
   "id": "8085f52c",
   "metadata": {},
   "outputs": [
    {
     "data": {
      "image/png": "[encoded data removed]",
      "text/plain": [
       "<Figure size 720x432 with 1 Axes>"
      ]
     },
     "metadata": {},
     "output_type": "display_data"
    }
   ],
   "source": [
    "plt.figure(figsize=(10,6))\n",
    "ax2 = sns.countplot(data=df_ham , x = 'punct_count', hue='Category')\n",
    "ax2.set(xlabel=\"Number of Punctuations\", ylabel = \"Number of Messages\");"
   ]
  },
  {
   "cell_type": "code",
   "execution_count": 127,
   "id": "8c51b48d",
   "metadata": {},
   "outputs": [
    {
     "data": {
      "image/png": "[encoded data removed]",
      "text/plain": [
       "<Figure size 720x432 with 1 Axes>"
      ]
     },
     "metadata": {},
     "output_type": "display_data"
    }
   ],
   "source": [
    "plt.figure(figsize=(10,6))\n",
    "ax3 = sns.countplot(data=df_spam , x = 'stopwords', hue='Category')\n",
    "ax3.set(xlabel=\"Number of Stopwords\", ylabel = \"Number of Messages\");"
   ]
  },
  {
   "cell_type": "code",
   "execution_count": 128,
   "id": "03a0b847",
   "metadata": {},
   "outputs": [
    {
     "data": {
      "image/png": "[encoded data removed]",
      "text/plain": [
       "<Figure size 720x432 with 1 Axes>"
      ]
     },
     "metadata": {},
     "output_type": "display_data"
    }
   ],
   "source": [
    "plt.figure(figsize=(10,6))\n",
    "ax4 = sns.countplot(data=df_ham , x = 'stopwords', hue='Category')\n",
    "ax4.set(xlabel=\"Number of Stopwords\", ylabel = \"Number of Messages\");"
   ]
  },
  {
   "cell_type": "code",
   "execution_count": null,
   "id": "d35b1a87",
   "metadata": {},
   "outputs": [],
   "source": []
  }
 ],
 "metadata": {
  "kernelspec": {
   "display_name": "Python 3",
   "language": "python",
   "name": "python3"
  },
  "language_info": {
   "codemirror_mode": {
    "name": "ipython",
    "version": 3
   },
   "file_extension": ".py",
   "mimetype": "text/x-python",
   "name": "python",
   "nbconvert_exporter": "python",
   "pygments_lexer": "ipython3",
   "version": "3.8.5"
  }
 },
 "nbformat": 4,
 "nbformat_minor": 5
}
